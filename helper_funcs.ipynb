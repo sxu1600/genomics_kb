{
 "cells": [
  {
   "cell_type": "code",
   "execution_count": 1,
   "id": "243f4e6d",
   "metadata": {},
   "outputs": [],
   "source": [
    "import csv"
   ]
  },
  {
   "cell_type": "markdown",
   "id": "9cb035c5",
   "metadata": {},
   "source": [
    "# Disease Synonyms"
   ]
  },
  {
   "cell_type": "code",
   "execution_count": 18,
   "id": "8bb768bf",
   "metadata": {},
   "outputs": [],
   "source": [
    "def find_preferred_term_by_synonym(synonym):\n",
    "    # Convert the input synonym to lowercase for a case-insensitive comparison\n",
    "    synonym_lower = synonym.lower()\n",
    "    \n",
    "    # Read the CSV file\n",
    "    with open('data/Neoplasm_Core.csv', 'r') as csvfile:\n",
    "        reader = csv.DictReader(csvfile)\n",
    "        for row in reader:\n",
    "            # Convert synonyms to lowercase and split the \"Synonyms\" column by the \"|\" character\n",
    "            synonyms = row['Synonyms'].lower().split('|')\n",
    "            # Check if the provided synonym (in lowercase) is in the list of synonyms (also in lowercase) for this row\n",
    "            if synonym_lower in synonyms:\n",
    "                # Return the \"Preferred Term\" for this row if a match is found\n",
    "                return row['Preferred Term']\n",
    "    # If no match is found, return the original synonym\n",
    "    return synonym"
   ]
  },
  {
   "cell_type": "code",
   "execution_count": 19,
   "id": "0be39921",
   "metadata": {},
   "outputs": [
    {
     "name": "stdout",
     "output_type": "stream",
     "text": [
      "The preferred term for 'acute Monoblastic Leukemia (FAB M5a)' is 'Acute Monoblastic Leukemia'.\n"
     ]
    }
   ],
   "source": [
    "# Test\n",
    "input_synonym = \"acute Monoblastic Leukemia (FAB M5a)\"\n",
    "preferred_term = find_preferred_term_by_synonym(input_synonym)\n",
    "\n",
    "if preferred_term:\n",
    "    print(f\"The preferred term for '{input_synonym}' is '{preferred_term}'.\")\n",
    "else:\n",
    "    print(f\"No preferred term found for '{input_synonym}'.\")"
   ]
  },
  {
   "cell_type": "markdown",
   "id": "15410cc8",
   "metadata": {},
   "source": [
    "# Node Checker"
   ]
  },
  {
   "cell_type": "code",
   "execution_count": null,
   "id": "25abe3d4",
   "metadata": {},
   "outputs": [],
   "source": [
    "def snv_row_check(row, file_path):\n",
    "    gene = row['gene']\n",
    "    # entrez_id = row['entrez_id'] # corresponds to gene symbol\n",
    "    variant = row['variant']\n",
    "    \n",
    "    # Check if the combo of gene and variant exists in the CSV file\n",
    "    with open(file_path, 'r') as file:\n",
    "        reader = csv.reader(file)\n",
    "        for row in reader:\n",
    "            if row[0] == gene and row[1] == variant:\n",
    "                return gene,variant,row[2]  # Return the existing id\n",
    "\n",
    "    # If the combo doesn't exist, add it to the CSV file with a new id\n",
    "    with open(file_path, 'a', newline='') as file:\n",
    "        writer = csv.writer(file)\n",
    "        new_id = 'snv_' + str(get_new_id(file_path))  # Get a new id (e.g., increment the last id)\n",
    "        writer.writerow([gene, variant, new_id])  # Write the new row to the file\n",
    "        return gene, variant, new_id"
   ]
  },
  {
   "cell_type": "code",
   "execution_count": null,
   "id": "5cd82732",
   "metadata": {},
   "outputs": [],
   "source": [
    "def disease_checker(row, file_path):\n",
    "    \n",
    "    disease = row['disease']\n",
    "    \n",
    "    # Check if the combo of gene and variant exists in the CSV file\n",
    "    with open(file_path, 'r') as file:\n",
    "        reader = csv.reader(file)\n",
    "        for row in reader:\n",
    "            if row[0] == disease:\n",
    "                return disease,row[1]  # Return the existing id\n",
    "\n",
    "    # If the combo doesn't exist, add it to the CSV file with a new id\n",
    "    with open(file_path, 'a', newline='') as file:\n",
    "        writer = csv.writer(file)\n",
    "        new_id = 'disease_' + str(get_new_id(file_path))  # Get a new id (e.g., increment the last id)\n",
    "        writer.writerow([disease, new_id])  # Write the new row to the file\n",
    "        return disease, new_id"
   ]
  },
  {
   "cell_type": "code",
   "execution_count": null,
   "id": "d3bd174e",
   "metadata": {},
   "outputs": [],
   "source": [
    "def statement_checker(row, file_path, db_tag, sm_list):\n",
    "    gene = row['gene']\n",
    "    variant = row['variant']\n",
    "    disease = row['disease']\n",
    "    \n",
    "    sm_type = row[sm_list[0]]\n",
    "    direction = row[sm_list[1]]\n",
    "    level = row[sm_list[2]]\n",
    "    clinical_sig = row[sm_list[3]]\n",
    "    statement = row[sm_list[4]]\n",
    "    citation = row[sm_list[5]]\n",
    "    \n",
    "    \n",
    "    # write the CSV file with a new id\n",
    "    with open(file_path, 'a', newline='') as file:\n",
    "        writer = csv.writer(file)\n",
    "        new_id = 'statement_' + str(get_new_id(file_path))  # Get a new id (e.g., increment the last id)\n",
    "        writer.writerow([gene, variant, disease, sm_type, direction, level, clinical_sig,\n",
    "                                statement, citation, db_tag, new_id])  # Write the new row\n",
    "        return db_tag, new_id"
   ]
  }
 ],
 "metadata": {
  "kernelspec": {
   "display_name": "Python 3 (ipykernel)",
   "language": "python",
   "name": "python3"
  },
  "language_info": {
   "codemirror_mode": {
    "name": "ipython",
    "version": 3
   },
   "file_extension": ".py",
   "mimetype": "text/x-python",
   "name": "python",
   "nbconvert_exporter": "python",
   "pygments_lexer": "ipython3",
   "version": "3.9.12"
  }
 },
 "nbformat": 4,
 "nbformat_minor": 5
}
