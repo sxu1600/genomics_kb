{
 "cells": [
  {
   "cell_type": "code",
   "execution_count": 1,
   "id": "689cb143",
   "metadata": {},
   "outputs": [],
   "source": [
    "import pandas as pd\n",
    "import os\n",
    "import numpy as np"
   ]
  },
  {
   "cell_type": "code",
   "execution_count": 2,
   "id": "90c2f44d",
   "metadata": {},
   "outputs": [],
   "source": [
    "# read in the input tsv file\n",
    "df = pd.read_csv('data/database/cgi_biomarkers_per_variant.tsv', sep='\\t')"
   ]
  },
  {
   "cell_type": "markdown",
   "id": "11db5774",
   "metadata": {},
   "source": [
    "## Data pre-processing"
   ]
  },
  {
   "cell_type": "code",
   "execution_count": 3,
   "id": "14321490",
   "metadata": {},
   "outputs": [
    {
     "name": "stdout",
     "output_type": "stream",
     "text": [
      "The preferred term for 'acute Monoblastic Leukemia (FAB M5a)' is 'Acute Monoblastic Leukemia'.\n"
     ]
    }
   ],
   "source": [
    "# remove NA\n",
    "df = df.fillna('').iloc[640:660]\n",
    "\n",
    "# replace synonyms\n",
    "%run 'helper_funcs.ipynb'\n",
    "df['Primary Tumor type full name'] = df['Primary Tumor type full name'].apply(find_preferred_term_by_synonym)\n",
    "df['Primary Tumor type full name']\n",
    "\n",
    "# extract variant from non-empty invididual mutation column\n",
    "df['variant'] = df['individual_mutation'].apply(lambda x: x.split(':')[-1] if x else '')"
   ]
  },
  {
   "cell_type": "code",
   "execution_count": 4,
   "id": "ab44d3b3",
   "metadata": {},
   "outputs": [
    {
     "name": "stdout",
     "output_type": "stream",
     "text": [
      "640                 Any cancer type\n",
      "641                          Glioma\n",
      "642           Breast adenocarcinoma\n",
      "643         Prostate Adenocarcinoma\n",
      "644           Breast adenocarcinoma\n",
      "645                    Head an neck\n",
      "646                           Renal\n",
      "647                    Head an neck\n",
      "648                         Bladder\n",
      "649            Mantle Cell Lymphoma\n",
      "650                           Renal\n",
      "651                           Renal\n",
      "652                 Any cancer type\n",
      "653                           Renal\n",
      "654                 Any cancer type\n",
      "655                 Any cancer type\n",
      "656                 Any cancer type\n",
      "657                 Any cancer type\n",
      "658                 Any cancer type\n",
      "659    Chronic lymphocytic leukemia\n",
      "Name: Primary Tumor type full name, dtype: object\n"
     ]
    }
   ],
   "source": [
    "print(df['Primary Tumor type full name'])"
   ]
  },
  {
   "cell_type": "markdown",
   "id": "6a1f01e3",
   "metadata": {},
   "source": [
    "## Update output/disease_node.csv"
   ]
  },
  {
   "cell_type": "code",
   "execution_count": 5,
   "id": "05d1b586",
   "metadata": {},
   "outputs": [
    {
     "name": "stderr",
     "output_type": "stream",
     "text": [
      "/var/folders/n0/4sr1d2x93cb_dvn79mm6hrdc0000gn/T/ipykernel_60468/1658102783.py:23: FutureWarning: The frame.append method is deprecated and will be removed from pandas in a future version. Use pandas.concat instead.\n",
      "  return existing_df.append(new_entries, ignore_index=True), start_id\n"
     ]
    }
   ],
   "source": [
    "# Ensure the existing DataFrame is read in\n",
    "disease_node_df = pd.read_csv('output/disease_node.csv')\n",
    "\n",
    "# Function to check and append new diseases, ignoring case\n",
    "def append_new_diseases(df, existing_df, start_id):\n",
    "    new_entries = []\n",
    "    # Create a set for faster lookups, converting existing disease names to lowercase\n",
    "    existing_disease_names = set(existing_df['disease_name'].str.lower())\n",
    "    \n",
    "    for disease in df['Primary Tumor type full name'].unique():\n",
    "        # Convert the disease to lowercase before the check\n",
    "        disease_lower = disease.lower()\n",
    "        if disease_lower not in existing_disease_names:\n",
    "            new_entries.append({\n",
    "                'disease_name': disease,  # Keep the original case for the name\n",
    "                'disease_id': start_id,\n",
    "                'source': 'cgi'\n",
    "            })\n",
    "            existing_disease_names.add(disease_lower)  # Add the new name in lowercase for future checks\n",
    "            start_id += 1\n",
    "            \n",
    "    # Append new entries to the existing DataFrame\n",
    "    return existing_df.append(new_entries, ignore_index=True), start_id\n",
    "\n",
    "# Find the next disease_id to use\n",
    "next_disease_id = disease_node_df['disease_id'].max() + 1\n",
    "\n",
    "# Update the disease_node_df with new diseases from df\n",
    "disease_node_df, next_disease_id = append_new_diseases(df, disease_node_df, next_disease_id)\n",
    "\n",
    "# Save the updated DataFrame\n",
    "disease_node_df.to_csv('output/disease_node.csv', index=False)\n"
   ]
  },
  {
   "cell_type": "markdown",
   "id": "ee45075d",
   "metadata": {},
   "source": [
    "## Create or update output/snv.csv"
   ]
  },
  {
   "cell_type": "code",
   "execution_count": 6,
   "id": "dd3a47f8",
   "metadata": {},
   "outputs": [
    {
     "name": "stderr",
     "output_type": "stream",
     "text": [
      "/var/folders/n0/4sr1d2x93cb_dvn79mm6hrdc0000gn/T/ipykernel_60468/2828300433.py:16: FutureWarning: The frame.append method is deprecated and will be removed from pandas in a future version. Use pandas.concat instead.\n",
      "  snv_df = snv_df.append({\n",
      "/var/folders/n0/4sr1d2x93cb_dvn79mm6hrdc0000gn/T/ipykernel_60468/2828300433.py:16: FutureWarning: The frame.append method is deprecated and will be removed from pandas in a future version. Use pandas.concat instead.\n",
      "  snv_df = snv_df.append({\n",
      "/var/folders/n0/4sr1d2x93cb_dvn79mm6hrdc0000gn/T/ipykernel_60468/2828300433.py:16: FutureWarning: The frame.append method is deprecated and will be removed from pandas in a future version. Use pandas.concat instead.\n",
      "  snv_df = snv_df.append({\n",
      "/var/folders/n0/4sr1d2x93cb_dvn79mm6hrdc0000gn/T/ipykernel_60468/2828300433.py:16: FutureWarning: The frame.append method is deprecated and will be removed from pandas in a future version. Use pandas.concat instead.\n",
      "  snv_df = snv_df.append({\n",
      "/var/folders/n0/4sr1d2x93cb_dvn79mm6hrdc0000gn/T/ipykernel_60468/2828300433.py:16: FutureWarning: The frame.append method is deprecated and will be removed from pandas in a future version. Use pandas.concat instead.\n",
      "  snv_df = snv_df.append({\n",
      "/var/folders/n0/4sr1d2x93cb_dvn79mm6hrdc0000gn/T/ipykernel_60468/2828300433.py:16: FutureWarning: The frame.append method is deprecated and will be removed from pandas in a future version. Use pandas.concat instead.\n",
      "  snv_df = snv_df.append({\n",
      "/var/folders/n0/4sr1d2x93cb_dvn79mm6hrdc0000gn/T/ipykernel_60468/2828300433.py:16: FutureWarning: The frame.append method is deprecated and will be removed from pandas in a future version. Use pandas.concat instead.\n",
      "  snv_df = snv_df.append({\n",
      "/var/folders/n0/4sr1d2x93cb_dvn79mm6hrdc0000gn/T/ipykernel_60468/2828300433.py:16: FutureWarning: The frame.append method is deprecated and will be removed from pandas in a future version. Use pandas.concat instead.\n",
      "  snv_df = snv_df.append({\n",
      "/var/folders/n0/4sr1d2x93cb_dvn79mm6hrdc0000gn/T/ipykernel_60468/2828300433.py:16: FutureWarning: The frame.append method is deprecated and will be removed from pandas in a future version. Use pandas.concat instead.\n",
      "  snv_df = snv_df.append({\n",
      "/var/folders/n0/4sr1d2x93cb_dvn79mm6hrdc0000gn/T/ipykernel_60468/2828300433.py:16: FutureWarning: The frame.append method is deprecated and will be removed from pandas in a future version. Use pandas.concat instead.\n",
      "  snv_df = snv_df.append({\n",
      "/var/folders/n0/4sr1d2x93cb_dvn79mm6hrdc0000gn/T/ipykernel_60468/2828300433.py:16: FutureWarning: The frame.append method is deprecated and will be removed from pandas in a future version. Use pandas.concat instead.\n",
      "  snv_df = snv_df.append({\n",
      "/var/folders/n0/4sr1d2x93cb_dvn79mm6hrdc0000gn/T/ipykernel_60468/2828300433.py:16: FutureWarning: The frame.append method is deprecated and will be removed from pandas in a future version. Use pandas.concat instead.\n",
      "  snv_df = snv_df.append({\n",
      "/var/folders/n0/4sr1d2x93cb_dvn79mm6hrdc0000gn/T/ipykernel_60468/2828300433.py:16: FutureWarning: The frame.append method is deprecated and will be removed from pandas in a future version. Use pandas.concat instead.\n",
      "  snv_df = snv_df.append({\n",
      "/var/folders/n0/4sr1d2x93cb_dvn79mm6hrdc0000gn/T/ipykernel_60468/2828300433.py:16: FutureWarning: The frame.append method is deprecated and will be removed from pandas in a future version. Use pandas.concat instead.\n",
      "  snv_df = snv_df.append({\n",
      "/var/folders/n0/4sr1d2x93cb_dvn79mm6hrdc0000gn/T/ipykernel_60468/2828300433.py:16: FutureWarning: The frame.append method is deprecated and will be removed from pandas in a future version. Use pandas.concat instead.\n",
      "  snv_df = snv_df.append({\n",
      "/var/folders/n0/4sr1d2x93cb_dvn79mm6hrdc0000gn/T/ipykernel_60468/2828300433.py:16: FutureWarning: The frame.append method is deprecated and will be removed from pandas in a future version. Use pandas.concat instead.\n",
      "  snv_df = snv_df.append({\n",
      "/var/folders/n0/4sr1d2x93cb_dvn79mm6hrdc0000gn/T/ipykernel_60468/2828300433.py:16: FutureWarning: The frame.append method is deprecated and will be removed from pandas in a future version. Use pandas.concat instead.\n",
      "  snv_df = snv_df.append({\n"
     ]
    }
   ],
   "source": [
    "# Check if snv.csv exists and create or append to it\n",
    "snv_file_path = 'output/snv.csv'\n",
    "\n",
    "if os.path.isfile(snv_file_path):\n",
    "    snv_df = pd.read_csv(snv_file_path)\n",
    "else:\n",
    "    snv_df = pd.DataFrame(columns=['gene', 'variant', 'snv_id', 'source'])\n",
    "\n",
    "# Generate snv_id starting from the last used ID if the file exists\n",
    "next_snv_id = snv_df['snv_id'].max() + 1 if not snv_df.empty else 1\n",
    "\n",
    "# Function to add new SNVs\n",
    "def add_new_snvs(snv_df, df, start_id):\n",
    "    for index, row in df.iterrows():\n",
    "        if not ((snv_df['gene'] == row['Gene']) & (snv_df['variant'] == row['variant'])).any():\n",
    "            snv_df = snv_df.append({\n",
    "                'gene': row['Gene'],\n",
    "                'variant': row['variant'],\n",
    "                'snv_id': start_id,\n",
    "                'source': 'cgi'\n",
    "            }, ignore_index=True)\n",
    "            start_id += 1\n",
    "    return snv_df\n",
    "\n",
    "# Update or create snv_df with new SNVs from df\n",
    "snv_df = add_new_snvs(snv_df, df, next_snv_id)\n",
    "\n",
    "# Save the snv DataFrame\n",
    "snv_df.to_csv(snv_file_path, index=False)"
   ]
  },
  {
   "cell_type": "markdown",
   "id": "3fc3c827",
   "metadata": {},
   "source": [
    "## Create or update output/drug.csv"
   ]
  },
  {
   "cell_type": "code",
   "execution_count": 7,
   "id": "5f575139",
   "metadata": {},
   "outputs": [
    {
     "name": "stderr",
     "output_type": "stream",
     "text": [
      "/var/folders/n0/4sr1d2x93cb_dvn79mm6hrdc0000gn/T/ipykernel_60468/1715126938.py:16: FutureWarning: The frame.append method is deprecated and will be removed from pandas in a future version. Use pandas.concat instead.\n",
      "  drug_df = drug_df.append({\n",
      "/var/folders/n0/4sr1d2x93cb_dvn79mm6hrdc0000gn/T/ipykernel_60468/1715126938.py:16: FutureWarning: The frame.append method is deprecated and will be removed from pandas in a future version. Use pandas.concat instead.\n",
      "  drug_df = drug_df.append({\n",
      "/var/folders/n0/4sr1d2x93cb_dvn79mm6hrdc0000gn/T/ipykernel_60468/1715126938.py:16: FutureWarning: The frame.append method is deprecated and will be removed from pandas in a future version. Use pandas.concat instead.\n",
      "  drug_df = drug_df.append({\n",
      "/var/folders/n0/4sr1d2x93cb_dvn79mm6hrdc0000gn/T/ipykernel_60468/1715126938.py:16: FutureWarning: The frame.append method is deprecated and will be removed from pandas in a future version. Use pandas.concat instead.\n",
      "  drug_df = drug_df.append({\n",
      "/var/folders/n0/4sr1d2x93cb_dvn79mm6hrdc0000gn/T/ipykernel_60468/1715126938.py:16: FutureWarning: The frame.append method is deprecated and will be removed from pandas in a future version. Use pandas.concat instead.\n",
      "  drug_df = drug_df.append({\n",
      "/var/folders/n0/4sr1d2x93cb_dvn79mm6hrdc0000gn/T/ipykernel_60468/1715126938.py:16: FutureWarning: The frame.append method is deprecated and will be removed from pandas in a future version. Use pandas.concat instead.\n",
      "  drug_df = drug_df.append({\n",
      "/var/folders/n0/4sr1d2x93cb_dvn79mm6hrdc0000gn/T/ipykernel_60468/1715126938.py:16: FutureWarning: The frame.append method is deprecated and will be removed from pandas in a future version. Use pandas.concat instead.\n",
      "  drug_df = drug_df.append({\n",
      "/var/folders/n0/4sr1d2x93cb_dvn79mm6hrdc0000gn/T/ipykernel_60468/1715126938.py:16: FutureWarning: The frame.append method is deprecated and will be removed from pandas in a future version. Use pandas.concat instead.\n",
      "  drug_df = drug_df.append({\n",
      "/var/folders/n0/4sr1d2x93cb_dvn79mm6hrdc0000gn/T/ipykernel_60468/1715126938.py:16: FutureWarning: The frame.append method is deprecated and will be removed from pandas in a future version. Use pandas.concat instead.\n",
      "  drug_df = drug_df.append({\n",
      "/var/folders/n0/4sr1d2x93cb_dvn79mm6hrdc0000gn/T/ipykernel_60468/1715126938.py:16: FutureWarning: The frame.append method is deprecated and will be removed from pandas in a future version. Use pandas.concat instead.\n",
      "  drug_df = drug_df.append({\n",
      "/var/folders/n0/4sr1d2x93cb_dvn79mm6hrdc0000gn/T/ipykernel_60468/1715126938.py:16: FutureWarning: The frame.append method is deprecated and will be removed from pandas in a future version. Use pandas.concat instead.\n",
      "  drug_df = drug_df.append({\n",
      "/var/folders/n0/4sr1d2x93cb_dvn79mm6hrdc0000gn/T/ipykernel_60468/1715126938.py:16: FutureWarning: The frame.append method is deprecated and will be removed from pandas in a future version. Use pandas.concat instead.\n",
      "  drug_df = drug_df.append({\n"
     ]
    }
   ],
   "source": [
    "# Check if drug.csv exists and create or append to it\n",
    "drug_file_path = 'output/drug.csv'\n",
    "\n",
    "if os.path.isfile(drug_file_path):\n",
    "    drug_df = pd.read_csv(drug_file_path)\n",
    "else:\n",
    "    drug_df = pd.DataFrame(columns=['drug_name', 'drug_family', 'drug_status', 'evidencel_level', 'drug_id', 'source'])\n",
    "\n",
    "# Generate drug_id starting from the last used ID if the file exists\n",
    "next_drug_id = drug_df['drug_id'].max() + 1 if not drug_df.empty else 1\n",
    "\n",
    "# Function to add new drugs\n",
    "def add_new_drugs(drug_df, df, start_id):\n",
    "    for index, row in df.iterrows():\n",
    "        if not ((drug_df['drug_name'] == row['Drug']) & (drug_df['drug_family'] == row['Drug family'])).any():\n",
    "            drug_df = drug_df.append({\n",
    "                'drug_name': row['Drug'],\n",
    "                'drug_family': row['Drug family'],\n",
    "                'drug_status': row['Drug status'],\n",
    "                'evidencel_level': row['Evidence level'],\n",
    "                'drug_id': start_id,\n",
    "                'source': 'cgi'\n",
    "            }, ignore_index=True)\n",
    "            start_id += 1\n",
    "    return drug_df\n",
    "\n",
    "# Update or create drug_df with new drugs from df\n",
    "drug_df = add_new_drugs(drug_df, df, next_drug_id)\n",
    "\n",
    "# Save the drug DataFrame\n",
    "drug_df.to_csv(drug_file_path, index=False)\n"
   ]
  },
  {
   "cell_type": "markdown",
   "id": "60d57d8f",
   "metadata": {},
   "source": [
    "## Create or update output/statement.csv"
   ]
  },
  {
   "cell_type": "code",
   "execution_count": 8,
   "id": "48c28779",
   "metadata": {},
   "outputs": [
    {
     "name": "stderr",
     "output_type": "stream",
     "text": [
      "/var/folders/n0/4sr1d2x93cb_dvn79mm6hrdc0000gn/T/ipykernel_60468/4023439743.py:46: FutureWarning: The frame.append method is deprecated and will be removed from pandas in a future version. Use pandas.concat instead.\n",
      "  statement_df = statement_df.append({\n",
      "/var/folders/n0/4sr1d2x93cb_dvn79mm6hrdc0000gn/T/ipykernel_60468/4023439743.py:46: FutureWarning: The frame.append method is deprecated and will be removed from pandas in a future version. Use pandas.concat instead.\n",
      "  statement_df = statement_df.append({\n",
      "/var/folders/n0/4sr1d2x93cb_dvn79mm6hrdc0000gn/T/ipykernel_60468/4023439743.py:46: FutureWarning: The frame.append method is deprecated and will be removed from pandas in a future version. Use pandas.concat instead.\n",
      "  statement_df = statement_df.append({\n",
      "/var/folders/n0/4sr1d2x93cb_dvn79mm6hrdc0000gn/T/ipykernel_60468/4023439743.py:46: FutureWarning: The frame.append method is deprecated and will be removed from pandas in a future version. Use pandas.concat instead.\n",
      "  statement_df = statement_df.append({\n",
      "/var/folders/n0/4sr1d2x93cb_dvn79mm6hrdc0000gn/T/ipykernel_60468/4023439743.py:46: FutureWarning: The frame.append method is deprecated and will be removed from pandas in a future version. Use pandas.concat instead.\n",
      "  statement_df = statement_df.append({\n",
      "/var/folders/n0/4sr1d2x93cb_dvn79mm6hrdc0000gn/T/ipykernel_60468/4023439743.py:46: FutureWarning: The frame.append method is deprecated and will be removed from pandas in a future version. Use pandas.concat instead.\n",
      "  statement_df = statement_df.append({\n",
      "/var/folders/n0/4sr1d2x93cb_dvn79mm6hrdc0000gn/T/ipykernel_60468/4023439743.py:46: FutureWarning: The frame.append method is deprecated and will be removed from pandas in a future version. Use pandas.concat instead.\n",
      "  statement_df = statement_df.append({\n",
      "/var/folders/n0/4sr1d2x93cb_dvn79mm6hrdc0000gn/T/ipykernel_60468/4023439743.py:46: FutureWarning: The frame.append method is deprecated and will be removed from pandas in a future version. Use pandas.concat instead.\n",
      "  statement_df = statement_df.append({\n",
      "/var/folders/n0/4sr1d2x93cb_dvn79mm6hrdc0000gn/T/ipykernel_60468/4023439743.py:46: FutureWarning: The frame.append method is deprecated and will be removed from pandas in a future version. Use pandas.concat instead.\n",
      "  statement_df = statement_df.append({\n",
      "/var/folders/n0/4sr1d2x93cb_dvn79mm6hrdc0000gn/T/ipykernel_60468/4023439743.py:46: FutureWarning: The frame.append method is deprecated and will be removed from pandas in a future version. Use pandas.concat instead.\n",
      "  statement_df = statement_df.append({\n",
      "/var/folders/n0/4sr1d2x93cb_dvn79mm6hrdc0000gn/T/ipykernel_60468/4023439743.py:46: FutureWarning: The frame.append method is deprecated and will be removed from pandas in a future version. Use pandas.concat instead.\n",
      "  statement_df = statement_df.append({\n",
      "/var/folders/n0/4sr1d2x93cb_dvn79mm6hrdc0000gn/T/ipykernel_60468/4023439743.py:46: FutureWarning: The frame.append method is deprecated and will be removed from pandas in a future version. Use pandas.concat instead.\n",
      "  statement_df = statement_df.append({\n",
      "/var/folders/n0/4sr1d2x93cb_dvn79mm6hrdc0000gn/T/ipykernel_60468/4023439743.py:46: FutureWarning: The frame.append method is deprecated and will be removed from pandas in a future version. Use pandas.concat instead.\n",
      "  statement_df = statement_df.append({\n",
      "/var/folders/n0/4sr1d2x93cb_dvn79mm6hrdc0000gn/T/ipykernel_60468/4023439743.py:46: FutureWarning: The frame.append method is deprecated and will be removed from pandas in a future version. Use pandas.concat instead.\n",
      "  statement_df = statement_df.append({\n",
      "/var/folders/n0/4sr1d2x93cb_dvn79mm6hrdc0000gn/T/ipykernel_60468/4023439743.py:46: FutureWarning: The frame.append method is deprecated and will be removed from pandas in a future version. Use pandas.concat instead.\n",
      "  statement_df = statement_df.append({\n",
      "/var/folders/n0/4sr1d2x93cb_dvn79mm6hrdc0000gn/T/ipykernel_60468/4023439743.py:46: FutureWarning: The frame.append method is deprecated and will be removed from pandas in a future version. Use pandas.concat instead.\n",
      "  statement_df = statement_df.append({\n",
      "/var/folders/n0/4sr1d2x93cb_dvn79mm6hrdc0000gn/T/ipykernel_60468/4023439743.py:46: FutureWarning: The frame.append method is deprecated and will be removed from pandas in a future version. Use pandas.concat instead.\n",
      "  statement_df = statement_df.append({\n",
      "/var/folders/n0/4sr1d2x93cb_dvn79mm6hrdc0000gn/T/ipykernel_60468/4023439743.py:46: FutureWarning: The frame.append method is deprecated and will be removed from pandas in a future version. Use pandas.concat instead.\n",
      "  statement_df = statement_df.append({\n",
      "/var/folders/n0/4sr1d2x93cb_dvn79mm6hrdc0000gn/T/ipykernel_60468/4023439743.py:46: FutureWarning: The frame.append method is deprecated and will be removed from pandas in a future version. Use pandas.concat instead.\n",
      "  statement_df = statement_df.append({\n",
      "/var/folders/n0/4sr1d2x93cb_dvn79mm6hrdc0000gn/T/ipykernel_60468/4023439743.py:46: FutureWarning: The frame.append method is deprecated and will be removed from pandas in a future version. Use pandas.concat instead.\n",
      "  statement_df = statement_df.append({\n"
     ]
    }
   ],
   "source": [
    "# Check if statement.csv exists and create or append to it\n",
    "statement_file_path = 'output/statement.csv'\n",
    "\n",
    "if os.path.isfile(statement_file_path):\n",
    "    statement_df = pd.read_csv(statement_file_path)\n",
    "else:\n",
    "    statement_df = pd.DataFrame(columns=['statement_id', 'drug_id', 'disease_id', 'snv_id', 'association', 'source'])\n",
    "\n",
    "# Generate statement_id starting from the last used ID if the file exists\n",
    "next_statement_id = statement_df['statement_id'].max() + 1 if not statement_df.empty else 1\n",
    "\n",
    "\n",
    "def add_new_statements(statement_df, df, disease_node_df, snv_df, drug_df, start_id):\n",
    "    for index, row in df.iterrows():\n",
    "        # Convert names to lowercase for case-insensitive matching\n",
    "        primary_tumor_lower = row['Primary Tumor type full name'].lower()\n",
    "        gene_lower = row['Gene'].lower()\n",
    "        variant_lower = row['variant'].lower()\n",
    "        drug_lower = row['Drug'].lower()\n",
    "        drug_family_lower = row['Drug family'].lower()\n",
    "\n",
    "        # Lookup IDs in the respective dataframes\n",
    "        disease_match = disease_node_df[disease_node_df['disease_name'].str.lower() == primary_tumor_lower]\n",
    "        if not disease_match.empty:\n",
    "            disease_id = disease_match['disease_id'].values[0]\n",
    "        else:\n",
    "            # Handle the case where there is no match\n",
    "            continue  # Skip this iteration\n",
    "\n",
    "        snv_match = snv_df[(snv_df['gene'].str.lower() == gene_lower) & (snv_df['variant'].str.lower() == variant_lower)]\n",
    "        if not snv_match.empty:\n",
    "            snv_id = snv_match['snv_id'].values[0]\n",
    "        else:\n",
    "            # Handle the case where there is no match\n",
    "            continue  # Skip this iteration\n",
    "\n",
    "        drug_match = drug_df[(drug_df['drug_name'].str.lower() == drug_lower) & (drug_df['drug_family'].str.lower() == drug_family_lower)]\n",
    "        if not drug_match.empty:\n",
    "            drug_id = drug_match['drug_id'].values[0]\n",
    "        else:\n",
    "            # Handle the case where there is no match\n",
    "            continue  # Skip this iteration\n",
    "\n",
    "        # Check for unique association and add a new statement if not found\n",
    "        if not ((statement_df['drug_id'] == drug_id) & (statement_df['disease_id'] == disease_id) & (statement_df['snv_id'] == snv_id)).any():\n",
    "            statement_df = statement_df.append({\n",
    "                'statement_id': start_id,\n",
    "                'drug_id': drug_id,\n",
    "                'disease_id': disease_id,\n",
    "                'snv_id': snv_id,\n",
    "                'association': row['Association'],\n",
    "                'source': 'cgi'\n",
    "            }, ignore_index=True)\n",
    "            start_id += 1\n",
    "    return statement_df\n",
    "\n",
    "\n",
    "# Update or create statement_df with new statements from df\n",
    "statement_df = add_new_statements(statement_df, df, disease_node_df, snv_df, drug_df, next_statement_id)\n",
    "\n",
    "# Save the statement DataFrame\n",
    "statement_df.to_csv(statement_file_path, index=False)"
   ]
  }
 ],
 "metadata": {
  "kernelspec": {
   "display_name": "Python 3 (ipykernel)",
   "language": "python",
   "name": "python3"
  },
  "language_info": {
   "codemirror_mode": {
    "name": "ipython",
    "version": 3
   },
   "file_extension": ".py",
   "mimetype": "text/x-python",
   "name": "python",
   "nbconvert_exporter": "python",
   "pygments_lexer": "ipython3",
   "version": "3.9.12"
  }
 },
 "nbformat": 4,
 "nbformat_minor": 5
}
