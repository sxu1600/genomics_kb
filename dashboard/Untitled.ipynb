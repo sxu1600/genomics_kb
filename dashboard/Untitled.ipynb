{
 "cells": [
  {
   "cell_type": "code",
   "execution_count": 1,
   "id": "537ce4ee",
   "metadata": {},
   "outputs": [
    {
     "name": "stdout",
     "output_type": "stream",
     "text": [
      "Requirement already satisfied: flask in /Users/tonixu/opt/anaconda3/lib/python3.9/site-packages (1.1.2)\r\n",
      "Requirement already satisfied: Jinja2>=2.10.1 in /Users/tonixu/opt/anaconda3/lib/python3.9/site-packages (from flask) (2.11.3)\r\n",
      "Requirement already satisfied: click>=5.1 in /Users/tonixu/opt/anaconda3/lib/python3.9/site-packages (from flask) (8.0.4)\r\n",
      "Requirement already satisfied: Werkzeug>=0.15 in /Users/tonixu/opt/anaconda3/lib/python3.9/site-packages (from flask) (2.0.3)\r\n",
      "Requirement already satisfied: itsdangerous>=0.24 in /Users/tonixu/opt/anaconda3/lib/python3.9/site-packages (from flask) (2.0.1)\r\n",
      "Requirement already satisfied: MarkupSafe>=0.23 in /Users/tonixu/opt/anaconda3/lib/python3.9/site-packages (from Jinja2>=2.10.1->flask) (2.0.1)\r\n"
     ]
    }
   ],
   "source": [
    "!pip install flask"
   ]
  },
  {
   "cell_type": "code",
   "execution_count": null,
   "id": "20523d10",
   "metadata": {},
   "outputs": [],
   "source": []
  }
 ],
 "metadata": {
  "kernelspec": {
   "display_name": "Python 3 (ipykernel)",
   "language": "python",
   "name": "python3"
  },
  "language_info": {
   "codemirror_mode": {
    "name": "ipython",
    "version": 3
   },
   "file_extension": ".py",
   "mimetype": "text/x-python",
   "name": "python",
   "nbconvert_exporter": "python",
   "pygments_lexer": "ipython3",
   "version": "3.9.12"
  }
 },
 "nbformat": 4,
 "nbformat_minor": 5
}
